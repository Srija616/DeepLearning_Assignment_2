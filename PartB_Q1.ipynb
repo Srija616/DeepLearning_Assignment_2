{
 "cells": [
  {
   "cell_type": "code",
   "execution_count": null,
   "metadata": {},
   "outputs": [],
   "source": [
    "!git clone https://github.com/Srija616/DeepLearning_Assignment_2.git"
   ]
  },
  {
   "cell_type": "code",
   "execution_count": null,
   "metadata": {},
   "outputs": [],
   "source": [
    "!pip install wandb\n",
    "import wandb"
   ]
  },
  {
   "cell_type": "code",
   "execution_count": 1,
   "metadata": {},
   "outputs": [
    {
     "data": {
      "text/plain": [
       "<torch._C.Generator at 0x7f25aff34290>"
      ]
     },
     "execution_count": 1,
     "metadata": {},
     "output_type": "execute_result"
    }
   ],
   "source": [
    "import os\n",
    "import wandb\n",
    "import random\n",
    "import numpy as np\n",
    "\n",
    "import torch\n",
    "from torch import nn,optim\n",
    "import torch.nn.functional as F\n",
    "from torch.utils.data import DataLoader,Dataset, random_split, Subset\n",
    "import torchvision\n",
    "import torchvision.transforms as T\n",
    "from torchvision.datasets import ImageFolder\n",
    "from torchmetrics import Accuracy\n",
    "torch.manual_seed(42)"
   ]
  },
  {
   "cell_type": "code",
   "execution_count": 2,
   "metadata": {},
   "outputs": [
    {
     "name": "stdout",
     "output_type": "stream",
     "text": [
      "/home/vg/ttsteam/repos/srija/inaturalist_12K/train/ /home/vg/ttsteam/repos/srija/inaturalist_12K/val/\n"
     ]
    }
   ],
   "source": [
    "path = os.path.dirname(os.path.realpath('__file__'))\n",
    "train_path = os.path.join(path, 'inaturalist_12K/train/')\n",
    "test_path = os.path.join(path, 'inaturalist_12K/val/')\n",
    "print (train_path, test_path)"
   ]
  },
  {
   "cell_type": "code",
   "execution_count": 3,
   "metadata": {},
   "outputs": [],
   "source": [
    "def preprocess_data(train_path, test_path, data_aug=False):\n",
    "    if data_aug == True:\n",
    "        transforms = T.Compose([T.RandomResizedCrop((224, 224)),\n",
    "                            T.RandomHorizontalFlip(p=0.5),\n",
    "                            T.RandomVerticalFlip(p=0.5),\n",
    "                            T.RandomRotation(degrees=45),\n",
    "                            T.ToTensor(),\n",
    "                            T.Normalize(mean=[0, 0, 0], std=[1, 1, 1])\n",
    "                                \n",
    "                ])\n",
    "    else:\n",
    "        transforms = T.Compose([T.RandomResizedCrop((224, 224)),\n",
    "                    T.ToTensor(),\n",
    "                    T.Normalize(mean=[0, 0, 0], std=[1, 1, 1])])\n",
    "\n",
    "    dataset = ImageFolder(train_path, transform=transforms)\n",
    "    test_dataset = ImageFolder(test_path, transform=transforms)\n",
    "\n",
    "    train_size = int(0.8*len(dataset))\n",
    "    val_size = (len(dataset) - train_size)\n",
    "\n",
    "    class_labels = [label for _, label in dataset]\n",
    "    target = np.array(class_labels)\n",
    "\n",
    "    from sklearn.model_selection import StratifiedShuffleSplit\n",
    "    stratified_splitter = StratifiedShuffleSplit(n_splits=1, test_size=0.2, random_state=42)\n",
    "\n",
    "    for train_idx, val_idx in stratified_splitter.split(np.zeros(len(target)), target):\n",
    "        train_dataset = Subset(dataset, train_idx)\n",
    "        val_dataset = Subset(dataset, val_idx)\n",
    "\n",
    "    return train_dataset, val_dataset, test_dataset"
   ]
  },
  {
   "cell_type": "code",
   "execution_count": 5,
   "metadata": {},
   "outputs": [],
   "source": [
    "import sys\n",
    "sys.path.append(\"/home/vg/ttsteam/repos/srija/DeepLearning_Assignment_2/models\")\n",
    "from model_partb import FinetuneImgModel\n",
    "import pytorch_lightning as pl"
   ]
  },
  {
   "cell_type": "code",
   "execution_count": 6,
   "metadata": {},
   "outputs": [],
   "source": [
    "config = {\n",
    "    'data_aug':True\n",
    "}"
   ]
  },
  {
   "cell_type": "code",
   "execution_count": null,
   "metadata": {},
   "outputs": [],
   "source": [
    "def finetuneimgmodel():\n",
    "  train_dataset, val_dataset, test_dataset = preprocess_data(train_path, test_path, config[\"data_aug\"])\n",
    "  model = FinetuneImgModel(\n",
    "      train_dataset = train_dataset,\n",
    "      test_dataset = test_dataset,\n",
    "      val_dataset = val_dataset \n",
    "  )\n"
   ]
  }
 ],
 "metadata": {
  "kernelspec": {
   "display_name": "dl_ass2",
   "language": "python",
   "name": "python3"
  },
  "language_info": {
   "codemirror_mode": {
    "name": "ipython",
    "version": 3
   },
   "file_extension": ".py",
   "mimetype": "text/x-python",
   "name": "python",
   "nbconvert_exporter": "python",
   "pygments_lexer": "ipython3",
   "version": "3.9.19"
  }
 },
 "nbformat": 4,
 "nbformat_minor": 2
}
